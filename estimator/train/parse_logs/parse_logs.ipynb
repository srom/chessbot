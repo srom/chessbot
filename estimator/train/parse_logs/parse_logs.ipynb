{
 "cells": [
  {
   "cell_type": "code",
   "execution_count": 2,
   "metadata": {
    "collapsed": true
   },
   "outputs": [],
   "source": [
    "%matplotlib inline\n",
    "\n",
    "from __future__ import unicode_literals\n",
    "\n",
    "import json\n",
    "import logging\n",
    "import math\n",
    "import os\n",
    "import re\n",
    "\n",
    "import matplotlib.pyplot as plt\n",
    "import numpy as np"
   ]
  },
  {
   "cell_type": "code",
   "execution_count": 3,
   "metadata": {
    "collapsed": false
   },
   "outputs": [],
   "source": [
    "class TrainLogLine(object):\n",
    "    __slots__ = ('iteration', 'elapsed', 'test_loss', 'train_loss', 'best', 'best_iteration')\n",
    "\n",
    "    def __init__(self, **kwargs):\n",
    "        for key, value in kwargs.iteritems():\n",
    "            setattr(self, key, value)\n",
    "\n",
    "    def __unicode__(self):\n",
    "        return (\n",
    "            'Training batch {iteration}; ' +\n",
    "            'Elapsed {elapsed}; ' +\n",
    "            'loss: {test_loss} (train: {train_loss}); ' +\n",
    "            'best: {best} ({best_iteration})'\n",
    "        ).format(**self.to_dict())\n",
    "\n",
    "    def __repr__(self):\n",
    "        return self.__unicode__()\n",
    "\n",
    "    def to_dict(self):\n",
    "        return {\n",
    "            key: getattr(self, key)\n",
    "            for key in self.__slots__\n",
    "            if hasattr(self, key)\n",
    "        }\n",
    "\n",
    "\n",
    "def yield_train_log_line(log_path):\n",
    "    with open(log_path, 'r') as f:\n",
    "        for line in f:\n",
    "            if is_train_log_line(line):\n",
    "                yield parse_line(line)\n",
    "\n",
    "\n",
    "def parse_line(line):\n",
    "    r = r'^.*Training batch ([0-9]+); Elapsed ([0-9]+)s; loss: ([0-9\\.]+) \\(train: ([0-9\\.]+)\\); best: ([0-9\\.]+) \\(([0-9]+)\\).*$'\n",
    "    m = re.match(r, line)\n",
    "\n",
    "    if m is None:\n",
    "        raise ValueError('No match for line {}'.format(line))\n",
    "\n",
    "    return TrainLogLine(\n",
    "        iteration=int(m.group(1)),\n",
    "        elapsed=int(m.group(2)),\n",
    "        test_loss=float(m.group(3)),\n",
    "        train_loss=float(m.group(4)),\n",
    "        best=float(m.group(5)),\n",
    "        best_iteration=int(m.group(6)),\n",
    "    )\n",
    "\n",
    "\n",
    "def is_train_log_line(line):\n",
    "    return re.search('Training batch', line) is not None"
   ]
  },
  {
   "cell_type": "code",
   "execution_count": 4,
   "metadata": {
    "collapsed": false
   },
   "outputs": [],
   "source": [
    "log_lines = [l for l in yield_train_log_line('/Users/srom/workspace/go/src/github.com/srom/chessbot/train3.log')]"
   ]
  },
  {
   "cell_type": "code",
   "execution_count": 5,
   "metadata": {
    "collapsed": false
   },
   "outputs": [
    {
     "data": {
      "text/plain": [
       "84478"
      ]
     },
     "execution_count": 5,
     "metadata": {},
     "output_type": "execute_result"
    }
   ],
   "source": [
    "len(log_lines)"
   ]
  },
  {
   "cell_type": "code",
   "execution_count": 6,
   "metadata": {
    "collapsed": false
   },
   "outputs": [],
   "source": [
    "iter_min = 10000\n",
    "x = range(0, len(log_lines))[iter_min:]\n",
    "y = [l.test_loss for l in log_lines][iter_min:]\n",
    "# plt.plot(x, y)"
   ]
  },
  {
   "cell_type": "code",
   "execution_count": null,
   "metadata": {
    "collapsed": true
   },
   "outputs": [],
   "source": []
  }
 ],
 "metadata": {
  "kernelspec": {
   "display_name": "Python 2",
   "language": "python",
   "name": "python2"
  },
  "language_info": {
   "codemirror_mode": {
    "name": "ipython",
    "version": 2
   },
   "file_extension": ".py",
   "mimetype": "text/x-python",
   "name": "python",
   "nbconvert_exporter": "python",
   "pygments_lexer": "ipython2",
   "version": "2.7.10"
  }
 },
 "nbformat": 4,
 "nbformat_minor": 0
}
