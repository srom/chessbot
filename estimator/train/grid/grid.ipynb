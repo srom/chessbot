{
 "cells": [
  {
   "cell_type": "code",
   "execution_count": null,
   "metadata": {},
   "outputs": [],
   "source": [
    "%matplotlib inline"
   ]
  },
  {
   "cell_type": "code",
   "execution_count": null,
   "metadata": {},
   "outputs": [],
   "source": [
    "import json\n",
    "import logging\n",
    "import math\n",
    "import os\n",
    "\n",
    "import matplotlib.pyplot as plt\n",
    "import numpy as np"
   ]
  },
  {
   "cell_type": "code",
   "execution_count": null,
   "metadata": {},
   "outputs": [],
   "source": [
    "def load_grid():\n",
    "    path = os.path.join(os.environ['GOPATH'], 'src/github.com/srom/chessbot/estimator/train/grid/grid_conv2.json')\n",
    "    print 'Loading grid from %s' % path\n",
    "    with open(path, 'r') as f:\n",
    "        return json.loads(f.read())"
   ]
  },
  {
   "cell_type": "code",
   "execution_count": null,
   "metadata": {},
   "outputs": [],
   "source": [
    "grid = load_grid()['grid']"
   ]
  },
  {
   "cell_type": "code",
   "execution_count": null,
   "metadata": {},
   "outputs": [],
   "source": [
    "def sorted_best_scores(grid):\n",
    "    scores = []\n",
    "    for sq_nb, square in enumerate(grid):\n",
    "        square_score = get_best_square_score(square, sq_nb)\n",
    "        scores.append(square_score)\n",
    "    return sorted(scores, key=lambda s: s['loss'])\n",
    "\n",
    "\n",
    "def get_best_square_score(square, sq_nb):\n",
    "    best_score = None\n",
    "    for i, l in enumerate(square['test_losses']):\n",
    "        if best_score is None or l < best_score['loss']:\n",
    "            best_score = dict(\n",
    "                loss=l,\n",
    "                iteration=i,  \n",
    "                learning_rate=square['learning_rate'], \n",
    "                epsilon=square['epsilon'],\n",
    "                step=sq_nb,\n",
    "            )\n",
    "    return best_score"
   ]
  },
  {
   "cell_type": "code",
   "execution_count": null,
   "metadata": {},
   "outputs": [],
   "source": [
    "scores = sorted_best_scores(grid)"
   ]
  },
  {
   "cell_type": "code",
   "execution_count": null,
   "metadata": {},
   "outputs": [],
   "source": [
    "x = range(20, 50)\n",
    "plots = []\n",
    "best_params = [(b['learning_rate'], b['epsilon']) for b in scores[:5]]\n",
    "for grid_square in grid:\n",
    "    params = (grid_square['learning_rate'], grid_square['epsilon'])\n",
    "    if params not in best_params:\n",
    "        continue\n",
    "    test_loss = grid_square['test_losses']\n",
    "    learning_rate = grid_square['learning_rate']\n",
    "    epsilon = grid_square['epsilon']\n",
    "    l, = plt.plot(x, test_loss[20:], label='l: {}, e: {}'.format(learning_rate, epsilon))\n",
    "    plots.append(l)\n",
    "\n",
    "plt.xlabel('Epoch')\n",
    "plt.ylabel('Loss')\n",
    "plt.legend(handles=plots)\n",
    "plt.show()"
   ]
  },
  {
   "cell_type": "code",
   "execution_count": null,
   "metadata": {},
   "outputs": [],
   "source": []
  }
 ],
 "metadata": {
  "kernelspec": {
   "display_name": "Python 2",
   "language": "python",
   "name": "python2"
  },
  "language_info": {
   "codemirror_mode": {
    "name": "ipython",
    "version": 2
   },
   "file_extension": ".py",
   "mimetype": "text/x-python",
   "name": "python",
   "nbconvert_exporter": "python",
   "pygments_lexer": "ipython2",
   "version": "2.7.10"
  }
 },
 "nbformat": 4,
 "nbformat_minor": 0
}
